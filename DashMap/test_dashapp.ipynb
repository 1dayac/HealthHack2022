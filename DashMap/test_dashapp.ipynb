{
 "cells": [
  {
   "cell_type": "code",
   "execution_count": 2,
   "metadata": {
    "collapsed": true
   },
   "outputs": [
    {
     "name": "stdout",
     "output_type": "stream",
     "text": [
      "Collecting dash\r\n",
      "  Downloading dash-2.2.0-py3-none-any.whl (8.5 MB)\r\n",
      "\u001B[K     |████████████████████████████████| 8.5 MB 9.1 MB/s eta 0:00:01     |██████████▊                     | 2.8 MB 3.2 MB/s eta 0:00:02\r\n",
      "\u001B[?25hCollecting plotly>=5.0.0\r\n",
      "  Downloading plotly-5.6.0-py2.py3-none-any.whl (27.7 MB)\r\n",
      "\u001B[K     |████████████████████████████████| 27.7 MB 8.8 MB/s eta 0:00:01    |████████▌                       | 7.3 MB 932 kB/s eta 0:00:22     |███████████████████████         | 19.9 MB 7.8 MB/s eta 0:00:02     |██████████████████████████████▊ | 26.6 MB 8.8 MB/s eta 0:00:01\r\n",
      "\u001B[?25hCollecting dash-table==5.0.0\r\n",
      "  Downloading dash_table-5.0.0.tar.gz (3.4 kB)\r\n",
      "Collecting flask-compress\r\n",
      "  Downloading Flask_Compress-1.10.1-py3-none-any.whl (7.9 kB)\r\n",
      "Collecting Flask>=1.0.4\r\n",
      "  Downloading Flask-2.0.3-py3-none-any.whl (95 kB)\r\n",
      "\u001B[K     |████████████████████████████████| 95 kB 3.5 MB/s eta 0:00:011\r\n",
      "\u001B[?25hCollecting dash-html-components==2.0.0\r\n",
      "  Downloading dash_html_components-2.0.0.tar.gz (3.8 kB)\r\n",
      "Collecting dash-core-components==2.0.0\r\n",
      "  Downloading dash_core_components-2.0.0.tar.gz (3.4 kB)\r\n",
      "Collecting itsdangerous>=2.0\r\n",
      "  Downloading itsdangerous-2.1.0-py3-none-any.whl (15 kB)\r\n",
      "Collecting Werkzeug>=2.0\r\n",
      "  Downloading Werkzeug-2.0.3-py3-none-any.whl (289 kB)\r\n",
      "\u001B[K     |████████████████████████████████| 289 kB 16.9 MB/s eta 0:00:01\r\n",
      "\u001B[?25hRequirement already satisfied: Jinja2>=3.0 in /home/dmm2017/miniconda3/envs/dash/lib/python3.10/site-packages (from Flask>=1.0.4->dash) (3.0.2)\r\n",
      "Collecting click>=7.1.2\r\n",
      "  Downloading click-8.0.4-py3-none-any.whl (97 kB)\r\n",
      "\u001B[K     |████████████████████████████████| 97 kB 5.9 MB/s  eta 0:00:01\r\n",
      "\u001B[?25hRequirement already satisfied: MarkupSafe>=2.0 in /home/dmm2017/miniconda3/envs/dash/lib/python3.10/site-packages (from Jinja2>=3.0->Flask>=1.0.4->dash) (2.0.1)\r\n",
      "Collecting tenacity>=6.2.0\r\n",
      "  Downloading tenacity-8.0.1-py3-none-any.whl (24 kB)\r\n",
      "Requirement already satisfied: six in /home/dmm2017/miniconda3/envs/dash/lib/python3.10/site-packages (from plotly>=5.0.0->dash) (1.16.0)\r\n",
      "Collecting brotli\r\n",
      "  Downloading Brotli-1.0.9-cp310-cp310-manylinux_2_5_x86_64.manylinux1_x86_64.manylinux_2_12_x86_64.manylinux2010_x86_64.whl (2.7 MB)\r\n",
      "\u001B[K     |████████████████████████████████| 2.7 MB 20.5 MB/s eta 0:00:01\r\n",
      "\u001B[?25hBuilding wheels for collected packages: dash-core-components, dash-html-components, dash-table\r\n",
      "  Building wheel for dash-core-components (setup.py) ... \u001B[?25ldone\r\n",
      "\u001B[?25h  Created wheel for dash-core-components: filename=dash_core_components-2.0.0-py3-none-any.whl size=3822 sha256=b3a5f24e7625760a18d3770bd22ed45238c8599fe45562550747737ad23cf46c\r\n",
      "  Stored in directory: /home/dmm2017/.cache/pip/wheels/e1/a4/82/41f4020b921f3375f9095aad320a3624cc2cfe27d04ea4317e\r\n",
      "  Building wheel for dash-html-components (setup.py) ... \u001B[?25ldone\r\n",
      "\u001B[?25h  Created wheel for dash-html-components: filename=dash_html_components-2.0.0-py3-none-any.whl size=4090 sha256=ee571c567a1f7a12fb25405e1ea55711a9171f67ab6d295095fb1622d1538472\r\n",
      "  Stored in directory: /home/dmm2017/.cache/pip/wheels/a4/01/c2/b8160fc40a0c5bb5672a5a93353489ac5968d3dc644eef36f4\r\n",
      "  Building wheel for dash-table (setup.py) ... \u001B[?25ldone\r\n",
      "\u001B[?25h  Created wheel for dash-table: filename=dash_table-5.0.0-py3-none-any.whl size=3912 sha256=62301415ed6baa7124b9d2d6e3dd26cc4ceef07a948336b37477b02ce8a1e573\r\n",
      "  Stored in directory: /home/dmm2017/.cache/pip/wheels/96/f3/02/00d7a93863b42bc2e2bfc1298b90e522a05dc4aa4e6409da4a\r\n",
      "Successfully built dash-core-components dash-html-components dash-table\r\n",
      "Installing collected packages: Werkzeug, itsdangerous, click, tenacity, Flask, brotli, plotly, flask-compress, dash-table, dash-html-components, dash-core-components, dash\r\n",
      "Successfully installed Flask-2.0.3 Werkzeug-2.0.3 brotli-1.0.9 click-8.0.4 dash-2.2.0 dash-core-components-2.0.0 dash-html-components-2.0.0 dash-table-5.0.0 flask-compress-1.10.1 itsdangerous-2.1.0 plotly-5.6.0 tenacity-8.0.1\r\n"
     ]
    }
   ],
   "source": [
    "!pip install dash"
   ]
  },
  {
   "cell_type": "code",
   "execution_count": 5,
   "outputs": [
    {
     "name": "stdout",
     "output_type": "stream",
     "text": [
      "Collecting jupyter-dash\r\n",
      "  Downloading jupyter_dash-0.4.1-py3-none-any.whl (17 kB)\r\n",
      "Requirement already satisfied: ipython in /home/dmm2017/miniconda3/envs/dash/lib/python3.10/site-packages (from jupyter-dash) (7.29.0)\r\n",
      "Collecting retrying\r\n",
      "  Downloading retrying-1.3.3.tar.gz (10 kB)\r\n",
      "Requirement already satisfied: ipykernel in /home/dmm2017/miniconda3/envs/dash/lib/python3.10/site-packages (from jupyter-dash) (6.4.1)\r\n",
      "Requirement already satisfied: flask in /home/dmm2017/miniconda3/envs/dash/lib/python3.10/site-packages (from jupyter-dash) (2.0.3)\r\n",
      "Collecting ansi2html\r\n",
      "  Downloading ansi2html-1.7.0-py3-none-any.whl (15 kB)\r\n",
      "Requirement already satisfied: dash in /home/dmm2017/miniconda3/envs/dash/lib/python3.10/site-packages (from jupyter-dash) (2.2.0)\r\n",
      "Collecting requests\r\n",
      "  Downloading requests-2.27.1-py2.py3-none-any.whl (63 kB)\r\n",
      "\u001B[K     |████████████████████████████████| 63 kB 747 kB/s eta 0:00:011\r\n",
      "\u001B[?25hRequirement already satisfied: plotly>=5.0.0 in /home/dmm2017/miniconda3/envs/dash/lib/python3.10/site-packages (from dash->jupyter-dash) (5.6.0)\r\n",
      "Requirement already satisfied: flask-compress in /home/dmm2017/miniconda3/envs/dash/lib/python3.10/site-packages (from dash->jupyter-dash) (1.10.1)\r\n",
      "Requirement already satisfied: dash-core-components==2.0.0 in /home/dmm2017/miniconda3/envs/dash/lib/python3.10/site-packages (from dash->jupyter-dash) (2.0.0)\r\n",
      "Requirement already satisfied: dash-html-components==2.0.0 in /home/dmm2017/miniconda3/envs/dash/lib/python3.10/site-packages (from dash->jupyter-dash) (2.0.0)\r\n",
      "Requirement already satisfied: dash-table==5.0.0 in /home/dmm2017/miniconda3/envs/dash/lib/python3.10/site-packages (from dash->jupyter-dash) (5.0.0)\r\n",
      "Requirement already satisfied: Jinja2>=3.0 in /home/dmm2017/miniconda3/envs/dash/lib/python3.10/site-packages (from flask->jupyter-dash) (3.0.2)\r\n",
      "Requirement already satisfied: click>=7.1.2 in /home/dmm2017/miniconda3/envs/dash/lib/python3.10/site-packages (from flask->jupyter-dash) (8.0.4)\r\n",
      "Requirement already satisfied: itsdangerous>=2.0 in /home/dmm2017/miniconda3/envs/dash/lib/python3.10/site-packages (from flask->jupyter-dash) (2.1.0)\r\n",
      "Requirement already satisfied: Werkzeug>=2.0 in /home/dmm2017/miniconda3/envs/dash/lib/python3.10/site-packages (from flask->jupyter-dash) (2.0.3)\r\n",
      "Requirement already satisfied: MarkupSafe>=2.0 in /home/dmm2017/miniconda3/envs/dash/lib/python3.10/site-packages (from Jinja2>=3.0->flask->jupyter-dash) (2.0.1)\r\n",
      "Requirement already satisfied: six in /home/dmm2017/miniconda3/envs/dash/lib/python3.10/site-packages (from plotly>=5.0.0->dash->jupyter-dash) (1.16.0)\r\n",
      "Requirement already satisfied: tenacity>=6.2.0 in /home/dmm2017/miniconda3/envs/dash/lib/python3.10/site-packages (from plotly>=5.0.0->dash->jupyter-dash) (8.0.1)\r\n",
      "Requirement already satisfied: brotli in /home/dmm2017/miniconda3/envs/dash/lib/python3.10/site-packages (from flask-compress->dash->jupyter-dash) (1.0.9)\r\n",
      "Requirement already satisfied: ipython-genutils in /home/dmm2017/miniconda3/envs/dash/lib/python3.10/site-packages (from ipykernel->jupyter-dash) (0.2.0)\r\n",
      "Requirement already satisfied: matplotlib-inline<0.2.0,>=0.1.0 in /home/dmm2017/miniconda3/envs/dash/lib/python3.10/site-packages (from ipykernel->jupyter-dash) (0.1.2)\r\n",
      "Requirement already satisfied: tornado<7.0,>=4.2 in /home/dmm2017/miniconda3/envs/dash/lib/python3.10/site-packages (from ipykernel->jupyter-dash) (6.1)\r\n",
      "Requirement already satisfied: traitlets<6.0,>=4.1.0 in /home/dmm2017/miniconda3/envs/dash/lib/python3.10/site-packages (from ipykernel->jupyter-dash) (5.1.1)\r\n",
      "Requirement already satisfied: jupyter-client<8.0 in /home/dmm2017/miniconda3/envs/dash/lib/python3.10/site-packages (from ipykernel->jupyter-dash) (7.1.2)\r\n",
      "Requirement already satisfied: debugpy<2.0,>=1.0.0 in /home/dmm2017/miniconda3/envs/dash/lib/python3.10/site-packages (from ipykernel->jupyter-dash) (1.5.1)\r\n",
      "Requirement already satisfied: pygments in /home/dmm2017/miniconda3/envs/dash/lib/python3.10/site-packages (from ipython->jupyter-dash) (2.11.2)\r\n",
      "Requirement already satisfied: setuptools>=18.5 in /home/dmm2017/miniconda3/envs/dash/lib/python3.10/site-packages (from ipython->jupyter-dash) (58.0.4)\r\n",
      "Requirement already satisfied: prompt-toolkit!=3.0.0,!=3.0.1,<3.1.0,>=2.0.0 in /home/dmm2017/miniconda3/envs/dash/lib/python3.10/site-packages (from ipython->jupyter-dash) (3.0.20)\r\n",
      "Requirement already satisfied: pickleshare in /home/dmm2017/miniconda3/envs/dash/lib/python3.10/site-packages (from ipython->jupyter-dash) (0.7.5)\r\n",
      "Requirement already satisfied: decorator in /home/dmm2017/miniconda3/envs/dash/lib/python3.10/site-packages (from ipython->jupyter-dash) (5.1.1)\r\n",
      "Requirement already satisfied: pexpect>4.3 in /home/dmm2017/miniconda3/envs/dash/lib/python3.10/site-packages (from ipython->jupyter-dash) (4.8.0)\r\n",
      "Requirement already satisfied: backcall in /home/dmm2017/miniconda3/envs/dash/lib/python3.10/site-packages (from ipython->jupyter-dash) (0.2.0)\r\n",
      "Requirement already satisfied: jedi>=0.16 in /home/dmm2017/miniconda3/envs/dash/lib/python3.10/site-packages (from ipython->jupyter-dash) (0.18.1)\r\n",
      "Requirement already satisfied: parso<0.9.0,>=0.8.0 in /home/dmm2017/miniconda3/envs/dash/lib/python3.10/site-packages (from jedi>=0.16->ipython->jupyter-dash) (0.8.3)\r\n",
      "Requirement already satisfied: jupyter-core>=4.6.0 in /home/dmm2017/miniconda3/envs/dash/lib/python3.10/site-packages (from jupyter-client<8.0->ipykernel->jupyter-dash) (4.9.1)\r\n",
      "Requirement already satisfied: entrypoints in /home/dmm2017/miniconda3/envs/dash/lib/python3.10/site-packages (from jupyter-client<8.0->ipykernel->jupyter-dash) (0.3)\r\n",
      "Requirement already satisfied: pyzmq>=13 in /home/dmm2017/miniconda3/envs/dash/lib/python3.10/site-packages (from jupyter-client<8.0->ipykernel->jupyter-dash) (22.3.0)\r\n",
      "Requirement already satisfied: nest-asyncio>=1.5 in /home/dmm2017/miniconda3/envs/dash/lib/python3.10/site-packages (from jupyter-client<8.0->ipykernel->jupyter-dash) (1.5.1)\r\n",
      "Requirement already satisfied: python-dateutil>=2.1 in /home/dmm2017/miniconda3/envs/dash/lib/python3.10/site-packages (from jupyter-client<8.0->ipykernel->jupyter-dash) (2.8.2)\r\n",
      "Requirement already satisfied: ptyprocess>=0.5 in /home/dmm2017/miniconda3/envs/dash/lib/python3.10/site-packages (from pexpect>4.3->ipython->jupyter-dash) (0.7.0)\r\n",
      "Requirement already satisfied: wcwidth in /home/dmm2017/miniconda3/envs/dash/lib/python3.10/site-packages (from prompt-toolkit!=3.0.0,!=3.0.1,<3.1.0,>=2.0.0->ipython->jupyter-dash) (0.2.5)\r\n",
      "Requirement already satisfied: certifi>=2017.4.17 in /home/dmm2017/miniconda3/envs/dash/lib/python3.10/site-packages (from requests->jupyter-dash) (2020.6.20)\r\n",
      "Collecting urllib3<1.27,>=1.21.1\r\n",
      "  Downloading urllib3-1.26.8-py2.py3-none-any.whl (138 kB)\r\n",
      "\u001B[K     |████████████████████████████████| 138 kB 9.0 MB/s eta 0:00:01\r\n",
      "\u001B[?25hCollecting charset-normalizer~=2.0.0\r\n",
      "  Downloading charset_normalizer-2.0.12-py3-none-any.whl (39 kB)\r\n",
      "Collecting idna<4,>=2.5\r\n",
      "  Downloading idna-3.3-py3-none-any.whl (61 kB)\r\n",
      "\u001B[K     |████████████████████████████████| 61 kB 5.5 MB/s  eta 0:00:01\r\n",
      "\u001B[?25hBuilding wheels for collected packages: retrying\r\n",
      "  Building wheel for retrying (setup.py) ... \u001B[?25ldone\r\n",
      "\u001B[?25h  Created wheel for retrying: filename=retrying-1.3.3-py3-none-any.whl size=11447 sha256=d9ee2d7337e087a824ec77b8fe672a2d48d82159598cbb3e14603ff2ac8d9201\r\n",
      "  Stored in directory: /home/dmm2017/.cache/pip/wheels/21/0a/27/62f77273aa12fefb20b9b277f1e937f98ae16dbd04ffa2b93a\r\n",
      "Successfully built retrying\r\n",
      "Installing collected packages: urllib3, idna, charset-normalizer, retrying, requests, ansi2html, jupyter-dash\r\n",
      "Successfully installed ansi2html-1.7.0 charset-normalizer-2.0.12 idna-3.3 jupyter-dash-0.4.1 requests-2.27.1 retrying-1.3.3 urllib3-1.26.8\r\n"
     ]
    }
   ],
   "source": [
    "!pip install jupyter-dash"
   ],
   "metadata": {
    "collapsed": false,
    "pycharm": {
     "name": "#%%\n"
    }
   }
  },
  {
   "cell_type": "code",
   "execution_count": 7,
   "outputs": [
    {
     "name": "stdout",
     "output_type": "stream",
     "text": [
      "Collecting pandas\r\n",
      "  Downloading pandas-1.4.1-cp310-cp310-manylinux_2_17_x86_64.manylinux2014_x86_64.whl (11.7 MB)\r\n",
      "\u001B[K     |████████████████████████████████| 11.7 MB 2.8 MB/s eta 0:00:01\r\n",
      "\u001B[?25hCollecting numpy>=1.21.0\r\n",
      "  Downloading numpy-1.22.2-cp310-cp310-manylinux_2_17_x86_64.manylinux2014_x86_64.whl (16.8 MB)\r\n",
      "\u001B[K     |████████████████████████████████| 16.8 MB 54 kB/s  eta 0:00:01    |█████████████████▉              | 9.4 MB 5.9 MB/s eta 0:00:02     |███████████████████▌            | 10.2 MB 5.9 MB/s eta 0:00:02     |█████████████████████▏          | 11.2 MB 5.9 MB/s eta 0:00:01\r\n",
      "\u001B[?25hCollecting pytz>=2020.1\r\n",
      "  Downloading pytz-2021.3-py2.py3-none-any.whl (503 kB)\r\n",
      "\u001B[K     |████████████████████████████████| 503 kB 28.5 MB/s eta 0:00:01     |██████████████████████▉         | 358 kB 28.5 MB/s eta 0:00:01\r\n",
      "\u001B[?25hRequirement already satisfied: python-dateutil>=2.8.1 in /home/dmm2017/miniconda3/envs/dash/lib/python3.10/site-packages (from pandas) (2.8.2)\r\n",
      "Requirement already satisfied: six>=1.5 in /home/dmm2017/miniconda3/envs/dash/lib/python3.10/site-packages (from python-dateutil>=2.8.1->pandas) (1.16.0)\r\n",
      "Installing collected packages: pytz, numpy, pandas\r\n",
      "Successfully installed numpy-1.22.2 pandas-1.4.1 pytz-2021.3\r\n"
     ]
    }
   ],
   "source": [
    "!pip install pandas"
   ],
   "metadata": {
    "collapsed": false,
    "pycharm": {
     "name": "#%%\n"
    }
   }
  },
  {
   "cell_type": "code",
   "execution_count": 1,
   "outputs": [
    {
     "name": "stderr",
     "output_type": "stream",
     "text": [
      "/tmp/ipykernel_40851/1135100372.py:4: UserWarning: \n",
      "The dash_core_components package is deprecated. Please replace\n",
      "`import dash_core_components as dcc` with `from dash import dcc`\n",
      "  import dash_core_components as dcc\n",
      "/tmp/ipykernel_40851/1135100372.py:5: UserWarning: \n",
      "The dash_html_components package is deprecated. Please replace\n",
      "`import dash_html_components as html` with `from dash import html`\n",
      "  import dash_html_components as html\n"
     ]
    },
    {
     "data": {
      "text/plain": "<IPython.lib.display.IFrame at 0x7f31727ce980>",
      "text/html": "\n        <iframe\n            width=\"100%\"\n            height=\"650\"\n            src=\"http://127.0.0.1:8050/\"\n            frameborder=\"0\"\n            allowfullscreen\n            \n        ></iframe>\n        "
     },
     "metadata": {},
     "output_type": "display_data"
    }
   ],
   "source": [
    "import pandas as pd\n",
    "import plotly.express as px\n",
    "from jupyter_dash import JupyterDash\n",
    "import dash_core_components as dcc\n",
    "import dash_html_components as html\n",
    "from dash.dependencies import Input, Output\n",
    "# Load Data\n",
    "df = px.data.tips()\n",
    "# Build App\n",
    "app = JupyterDash(__name__)\n",
    "app.layout = html.Div([\n",
    "    html.H1(\"JupyterDash Demo\"),\n",
    "    dcc.Graph(id='graph'),\n",
    "    html.Label([\n",
    "        \"colorscale\",\n",
    "        dcc.Dropdown(\n",
    "            id='colorscale-dropdown', clearable=False,\n",
    "            value='plasma', options=[\n",
    "                {'label': c, 'value': c}\n",
    "                for c in px.colors.named_colorscales()\n",
    "            ])\n",
    "    ]),\n",
    "])\n",
    "# Define callback to update graph\n",
    "@app.callback(\n",
    "    Output('graph', 'figure'),\n",
    "    [Input(\"colorscale-dropdown\", \"value\")]\n",
    ")\n",
    "def update_figure(colorscale):\n",
    "    return px.scatter(\n",
    "        df, x=\"total_bill\", y=\"tip\", color=\"size\",\n",
    "        color_continuous_scale=colorscale,\n",
    "        render_mode=\"webgl\", title=\"Tips\"\n",
    "    )\n",
    "# Run app and display result inline in the notebook\n",
    "app.run_server(mode='inline')\n"
   ],
   "metadata": {
    "collapsed": false,
    "pycharm": {
     "name": "#%%\n"
    }
   }
  },
  {
   "cell_type": "code",
   "execution_count": 42,
   "outputs": [
    {
     "ename": "SyntaxError",
     "evalue": "invalid syntax (1906526836.py, line 102)",
     "output_type": "error",
     "traceback": [
      "\u001B[0;36m  File \u001B[0;32m\"/tmp/ipykernel_71044/1906526836.py\"\u001B[0;36m, line \u001B[0;32m102\u001B[0m\n\u001B[0;31m    figure= px.choropleth_mapbox(df['May'][100:]) {\u001B[0m\n\u001B[0m                                                  ^\u001B[0m\n\u001B[0;31mSyntaxError\u001B[0m\u001B[0;31m:\u001B[0m invalid syntax\n"
     ]
    }
   ],
   "source": [
    "import dash\n",
    "import json\n",
    "import dash_core_components as dcc\n",
    "import dash_html_components as html\n",
    "import plotly.graph_objects as go\n",
    "import plotly.express as px\n",
    "\n",
    "from dash.dependencies import Input, Output\n",
    "from jupyter_dash import JupyterDash\n",
    "import plotly.express as px\n",
    "import os\n",
    "import pandas as pd\n",
    "from pandas.tseries.offsets import DateOffset\n",
    "\n",
    "df = pd.read_csv(\"../precips_example.csv\")\n",
    "\n",
    "\n",
    "print(df[df.year == 2010]['May'][0:])\n",
    "\n",
    "\n",
    "cwd = os.getcwd()\n",
    "\n",
    "path = cwd\n",
    "print(path)\n",
    "with open(os.path.join(cwd, \"./../colombia.geo.json\"), \"r\") as f:\n",
    "    counties = json.load(f)\n",
    "locations = df.NOMBRE_DPT.unique()\n",
    "\n",
    "for loc in counties['features']:\n",
    "    loc['id'] = loc['properties']['NOMBRE_DPT']\n",
    "\n",
    "app = JupyterDash(__name__)\n",
    "\n",
    "\n",
    "token = 'pk.eyJ1IjoibmV3dXNlcmZvcmV2ZXIiLCJhIjoiY2o2M3d1dTZiMGZobzMzbnp2Z2NiN3lmdyJ9.cQFKe3F3ovbfxTsM9E0ZSQ'\n",
    "\n",
    "\n",
    "maxmarks=13\n",
    "tday=pd.Timestamp.today() #gets timestamp of today\n",
    "m1date=tday+DateOffset(months=-maxmarks+1) #first month on slider\n",
    "datelist=pd.date_range(m1date, periods=maxmarks, freq='M') # list of months as dates\n",
    "dlist=pd.DatetimeIndex(datelist).normalize()\n",
    "tags={} #dictionary relating marks on slider to tags. tags are shown as \"Apr', \"May', etc\n",
    "datevalues={} #dictionary relating mark to date value\n",
    "x=1\n",
    "for i in dlist:\n",
    "    tags[x]=(i+DateOffset(months=1)).strftime('%b') #gets the string representation of next month ex:'Apr'\n",
    "    datevalues[x]=i\n",
    "    x=x+1\n",
    "\n",
    "year_tags = {}\n",
    "\n",
    "for i in range(0, 20):\n",
    "    year_tags[i+1] = str(2000 + i)\n",
    "\n",
    "month_slider =     dcc.Slider(\n",
    "    id='month-slider',\n",
    "    updatemode='mouseup',\n",
    "    min=1,\n",
    "    max=maxmarks,\n",
    "    step=1,\n",
    "    value=maxmarks-5,\n",
    "    marks=tags\n",
    ")\n",
    "\n",
    "\n",
    "year_slider =  dcc.Slider(\n",
    "    id='year-slider',\n",
    "    updatemode='mouseup',\n",
    "    min=1,\n",
    "    max=len(year_tags),\n",
    "    step=1,\n",
    "    value=10,\n",
    "    marks=year_tags\n",
    ")\n",
    "\n",
    "\n",
    "my_layout = go.Layout(\n",
    "    mapbox_style=\"carto-positron\",\n",
    "    mapbox_accesstoken=token,\n",
    "    mapbox_zoom=4,\n",
    "    mapbox_center = {\"lat\": 4.570868, \"lon\": -74.2973328}\n",
    ")\n",
    "\n",
    "#my_layout.update(sliders=my_slider)\n",
    "\n",
    "\n",
    "\n",
    "app.layout = html.Div(children=[\n",
    "    html.Div(\n",
    "        children=[html.H2(children=\"Colombia Dashboard\", className='h2-title'),],\n",
    "        className='study-browser-banner row'\n",
    "    ),\n",
    "    html.Div(month_slider),\n",
    "    html.Div(id='slider-output-container'),\n",
    "    html.Div(year_slider),\n",
    "    html.Div(\n",
    "        className='row app-body',\n",
    "        children=[\n",
    "            dcc.Graph(\n",
    "                id='map-plot3',\n",
    "                figure= px.choropleth_mapbox(df['May'][100:]) {\n",
    "                    'data': [go.Choroplethmapbox(\n",
    "                        z = df['May'][100:],\n",
    "                        geojson=counties,\n",
    "                         locations=locations,\n",
    "                        colorscale='Viridis',\n",
    "                        colorbar_title=\"Precipitation\"\n",
    "                    )],\n",
    "                    'layout' : my_layout\n",
    "                }\n",
    "            )\n",
    "        ])])\n",
    "\n",
    "\n",
    "@app.callback(\n",
    "    Output('map-plot3', 'figure'),\n",
    "    Input('month-slider', 'value'), Input('year-slider', 'value'))\n",
    "def update_figure(month_value, year_value):\n",
    "    with open(\"out.txt\") as f:\n",
    "        f.write(year_value)\n",
    "    return None\n",
    "#    fig =  {\n",
    "#        'data': [go.Choroplethmapbox(\n",
    "#            z = df[df.year == year_tags[year_value]][tags[month_value]][0:],\n",
    "#            geojson=counties,\n",
    "#            locations=locations,\n",
    "#            colorscale='Viridis',\n",
    "##            colorbar_title=\"Precipitation\"\n",
    "#        )],\n",
    "#        'layout' : my_layout\n",
    "#    }\n",
    "\n",
    "#    fig.update_layout(transition_duration = 500)\n",
    "#    return fig\n",
    "\n",
    "\n",
    "\n",
    "\n",
    "\n",
    "app.run_server(mode='inline', debug=True)"
   ],
   "metadata": {
    "collapsed": false,
    "pycharm": {
     "name": "#%%\n"
    }
   }
  },
  {
   "cell_type": "code",
   "execution_count": 38,
   "outputs": [],
   "source": [],
   "metadata": {
    "collapsed": false,
    "pycharm": {
     "name": "#%%\n"
    }
   }
  },
  {
   "cell_type": "code",
   "execution_count": 22,
   "outputs": [
    {
     "name": "stderr",
     "output_type": "stream",
     "text": [
      "/home/dmm2017/miniconda3/envs/dash/lib/python3.10/site-packages/jupyter_dash/jupyter_app.py:139: UserWarning:\n",
      "\n",
      "The 'environ['werkzeug.server.shutdown']' function is deprecated and will be removed in Werkzeug 2.1.\n",
      "\n"
     ]
    },
    {
     "data": {
      "text/plain": "<IPython.lib.display.IFrame at 0x7f15d1736c50>",
      "text/html": "\n        <iframe\n            width=\"100%\"\n            height=\"650\"\n            src=\"http://127.0.0.1:8070/\"\n            frameborder=\"0\"\n            allowfullscreen\n            \n        ></iframe>\n        "
     },
     "metadata": {},
     "output_type": "display_data"
    }
   ],
   "source": [
    "import json\n",
    "from textwrap import dedent as d\n",
    "import pandas as pd\n",
    "import plotly.graph_objects as go\n",
    "import numpy as np\n",
    "import dash\n",
    "import dash_core_components as dcc\n",
    "import dash_html_components as html\n",
    "import plotly.express as px\n",
    "from dash.dependencies import Input, Output\n",
    "from jupyter_dash import JupyterDash\n",
    "\n",
    "# app info\n",
    "app = JupyterDash(__name__)\n",
    "\n",
    "styles = {\n",
    "    'pre': {\n",
    "        'border': 'thin lightgrey solid',\n",
    "        'overflowX': 'scroll'\n",
    "    }\n",
    "}\n",
    "\n",
    "# data and basic figure\n",
    "x = np.arange(20)+10\n",
    "\n",
    "fig = go.Figure(data=go.Scatter(x=x, y=x**2, mode = 'lines+markers'))\n",
    "fig.add_traces(go.Scatter(x=x, y=x**2.2, mode = 'lines+markers'))\n",
    "\n",
    "app.layout = html.Div([\n",
    "    dcc.Graph(\n",
    "        id='basic-interactions',\n",
    "        figure=fig,\n",
    "    ),\n",
    "\n",
    "    html.Div(className='row', children=[\n",
    "        html.Div([\n",
    "            dcc.Markdown(d(\"\"\"\n",
    "              Click on points in the graph.\n",
    "            \"\"\")),\n",
    "            html.Pre(id='hover-data', style=styles['pre']),\n",
    "        ], className='three columns'),\n",
    "    ])\n",
    "])\n",
    "\n",
    "\n",
    "@app.callback(\n",
    "    Output('hover-data', 'children'),\n",
    "    [Input('basic-interactions', 'hoverData')])\n",
    "def display_hover_data(hoverData):\n",
    "    ggwp\n",
    "    return json.dumps(hoverData, indent=2)\n",
    "\n",
    "app.run_server(mode='inline', port = 8070, dev_tools_ui=True,\n",
    "               dev_tools_hot_reload =True, threaded=True)\n"
   ],
   "metadata": {
    "collapsed": false,
    "pycharm": {
     "name": "#%%\n"
    }
   }
  },
  {
   "cell_type": "code",
   "execution_count": null,
   "outputs": [],
   "source": [],
   "metadata": {
    "collapsed": false,
    "pycharm": {
     "name": "#%%\n"
    }
   }
  }
 ],
 "metadata": {
  "kernelspec": {
   "display_name": "Python 3",
   "language": "python",
   "name": "python3"
  },
  "language_info": {
   "codemirror_mode": {
    "name": "ipython",
    "version": 2
   },
   "file_extension": ".py",
   "mimetype": "text/x-python",
   "name": "python",
   "nbconvert_exporter": "python",
   "pygments_lexer": "ipython2",
   "version": "2.7.6"
  }
 },
 "nbformat": 4,
 "nbformat_minor": 0
}